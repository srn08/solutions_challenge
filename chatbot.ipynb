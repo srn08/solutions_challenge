{
  "nbformat": 4,
  "nbformat_minor": 0,
  "metadata": {
    "colab": {
      "provenance": []
    },
    "kernelspec": {
      "name": "python3",
      "display_name": "Python 3"
    },
    "language_info": {
      "name": "python"
    }
  },
  "cells": [
    {
      "cell_type": "code",
      "source": [
        "!pip install langchain \n",
        "!pip install gradio\n",
        "!pip install openai"
      ],
      "metadata": {
        "id": "UJhFgcxDIoTc"
      },
      "execution_count": null,
      "outputs": []
    },
    {
      "cell_type": "code",
      "execution_count": 12,
      "metadata": {
        "id": "agNSki2ABDAz",
        "colab": {
          "base_uri": "https://localhost:8080/"
        },
        "outputId": "13af99dd-0c1e-4245-9a9c-89058356a776"
      },
      "outputs": [
        {
          "output_type": "stream",
          "name": "stdout",
          "text": [
            "Enter your OPENAI API KEY: ··········\n",
            "Human: Could you tell me about the side effects of vaccines?\n",
            "AI:  Vaccines are generally very safe and the side effects are usually mild. The most common side effects are soreness, redness, or swelling at the injection site, fever, headache, and muscle aches. Serious side effects are very rare, occurring in less than 1 in a million doses. It is important to talk to your doctor about any concerns you may have about the safety of vaccines.\n",
            "Human: Should I take vaccines even though I have some pre-existing medical condition?\n",
            "AI:  It is important to talk to your doctor about any pre-existing medical conditions you may have before getting vaccinated. Your doctor can help you decide if it is safe for you to get vaccinated.\n",
            "Human: Could you tell me more about the Polio Vaccine?\n",
            "AI:  The Polio vaccine is a safe and effective way to protect against polio. It is estimated that the Polio vaccine has prevented more than 16 million cases of polio worldwide since its introduction in the 1950s. The World Health Organization recommends that all children receive the Polio vaccine as part of their routine immunization schedule.\n",
            "Human: At which age should I take the HEP-1 vaccine?\n",
            "AI:  The HEP-1 vaccine is recommended for children aged 12-15 months. It is also recommended for adults who have not been vaccinated against Hepatitis A.\n",
            "Human: exit\n",
            "AI:  Goodbye!\n"
          ]
        }
      ],
      "source": [
        "from langchain import OpenAI, LLMChain, PromptTemplate\n",
        "from langchain.memory import ConversationBufferWindowMemory\n",
        "import os\n",
        "from getpass import getpass\n",
        "\n",
        "\n",
        "api_key = getpass(\"Enter your OPENAI API KEY: \")\n",
        "\n",
        "os.environ[\"OPENAI_API_KEY\"] = api_key\n",
        "\n",
        "template = \"\"\"You are a chatbot who only states facts about vaccines with the aim of trying to combat misinformation about vaccines. Try to provide as much statistical information which backs up your responses as you can. If you have any ambiguity about any answer just say, \"I am not sure, please talk to your local medical doctor for the same\"\n",
        "\n",
        "{history}\n",
        "Human: {human_input}\n",
        "Assistant:\"\"\"\n",
        "\n",
        "prompt = PromptTemplate(\n",
        "    input_variables=[\"history\", \"human_input\"], \n",
        "    template=template\n",
        ")\n",
        "\n",
        "\n",
        "chatgpt_chain = LLMChain(\n",
        "    llm=OpenAI(temperature=0), \n",
        "    prompt=prompt, \n",
        "    verbose=False, \n",
        "    memory=ConversationBufferWindowMemory(k=2),\n",
        ")\n",
        "\n",
        "human_input = \"\"\n",
        "while human_input != \"exit\":\n",
        "\n",
        "    human_input = input(\"Human: \")\n",
        "    output = chatgpt_chain.run(human_input=human_input)\n",
        "    print(f\"AI: {output}\")\n",
        "    "
      ]
    }
  ]
}